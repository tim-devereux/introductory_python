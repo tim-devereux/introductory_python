{
 "cells": [
  {
   "cell_type": "markdown",
   "metadata": {},
   "source": [
    "# Functions and Modules\n",
    "\n",
    "This notebook covers how to create and use functions, and how to work with modules in Python."
   ]
  },
  {
   "cell_type": "markdown",
   "metadata": {},
   "source": [
    "## 1. Functions Basics\n",
    "\n",
    "Functions are reusable blocks of code that perform specific tasks."
   ]
  },
  {
   "cell_type": "code",
   "execution_count": null,
   "metadata": {},
   "outputs": [],
   "source": [
    "# Basic function definition and call\n",
    "def greet():\n",
    "    print(\"Hello, World!\")\n",
    "\n",
    "# Call the function\n",
    "greet()"
   ]
  },
  {
   "cell_type": "code",
   "execution_count": null,
   "metadata": {},
   "outputs": [],
   "source": [
    "# Function with parameters\n",
    "def greet_person(name):\n",
    "    print(f\"Hello, {name}!\")\n",
    "\n",
    "greet_person(\"Alice\")\n",
    "greet_person(\"Bob\")"
   ]
  },
  {
   "cell_type": "code",
   "execution_count": null,
   "metadata": {},
   "outputs": [],
   "source": [
    "# Function with return value\n",
    "def add_numbers(a, b):\n",
    "    result = a + b\n",
    "    return result\n",
    "\n",
    "sum_result = add_numbers(5, 3)\n",
    "print(f\"5 + 3 = {sum_result}\")\n",
    "\n",
    "# You can use the return value directly\n",
    "print(f\"10 + 7 = {add_numbers(10, 7)}\")"
   ]
  },
  {
   "cell_type": "markdown",
   "metadata": {},
   "source": [
    "## 2. Function Parameters\n",
    "\n",
    "Functions can have different types of parameters."
   ]
  },
  {
   "cell_type": "code",
   "execution_count": null,
   "metadata": {},
   "outputs": [],
   "source": [
    "# Default parameters\n",
    "def greet_with_title(name, title=\"Mr./Ms.\"):\n",
    "    print(f\"Hello, {title} {name}!\")\n",
    "\n",
    "greet_with_title(\"Smith\")  # Uses default title\n",
    "greet_with_title(\"Johnson\", \"Dr.\")  # Uses custom title"
   ]
  },
  {
   "cell_type": "code",
   "execution_count": null,
   "metadata": {},
   "outputs": [],
   "source": [
    "# Keyword arguments\n",
    "def create_profile(name, age, city, profession=\"Student\"):\n",
    "    print(f\"Name: {name}\")\n",
    "    print(f\"Age: {age}\")\n",
    "    print(f\"City: {city}\")\n",
    "    print(f\"Profession: {profession}\")\n",
    "    print(\"-\" * 20)\n",
    "\n",
    "# Using positional arguments\n",
    "create_profile(\"Alice\", 25, \"New York\", \"Engineer\")\n",
    "\n",
    "# Using keyword arguments (order doesn't matter)\n",
    "create_profile(city=\"London\", name=\"Bob\", age=30, profession=\"Teacher\")\n",
    "\n",
    "# Mix of positional and keyword\n",
    "create_profile(\"Charlie\", 22, city=\"Paris\")"
   ]
  },
  {
   "cell_type": "code",
   "execution_count": null,
   "metadata": {},
   "outputs": [],
   "source": [
    "# Variable number of arguments (*args)\n",
    "def calculate_sum(*numbers):\n",
    "    total = 0\n",
    "    for num in numbers:\n",
    "        total += num\n",
    "    return total\n",
    "\n",
    "print(f\"Sum of 1, 2, 3: {calculate_sum(1, 2, 3)}\")\n",
    "print(f\"Sum of 1, 2, 3, 4, 5: {calculate_sum(1, 2, 3, 4, 5)}\")\n",
    "print(f\"Sum of 10, 20: {calculate_sum(10, 20)}\")"
   ]
  },
  {
   "cell_type": "code",
   "execution_count": null,
   "metadata": {},
   "outputs": [],
   "source": [
    "# Variable keyword arguments (**kwargs)\n",
    "def print_info(**info):\n",
    "    print(\"Information provided:\")\n",
    "    for key, value in info.items():\n",
    "        print(f\"{key}: {value}\")\n",
    "\n",
    "print_info(name=\"David\", age=28, city=\"Boston\", hobby=\"Reading\")\n",
    "print()\n",
    "print_info(animal=\"Dog\", name=\"Buddy\", age=3)"
   ]
  },
  {
   "cell_type": "markdown",
   "metadata": {},
   "source": [
    "## 3. Lambda Functions\n",
    "\n",
    "Lambda functions are small, anonymous functions."
   ]
  },
  {
   "cell_type": "code",
   "execution_count": null,
   "metadata": {},
   "outputs": [],
   "source": [
    "# Basic lambda function\n",
    "square = lambda x: x ** 2\n",
    "print(f\"Square of 5: {square(5)}\")\n",
    "\n",
    "# Lambda with multiple parameters\n",
    "multiply = lambda a, b: a * b\n",
    "print(f\"3 * 4 = {multiply(3, 4)}\")\n",
    "\n",
    "# Using lambda with built-in functions\n",
    "numbers = [1, 2, 3, 4, 5]\n",
    "squared_numbers = list(map(lambda x: x**2, numbers))\n",
    "print(f\"Original: {numbers}\")\n",
    "print(f\"Squared: {squared_numbers}\")"
   ]
  },
  {
   "cell_type": "code",
   "execution_count": null,
   "metadata": {},
   "outputs": [],
   "source": [
    "# Lambda with filter\n",
    "numbers = [1, 2, 3, 4, 5, 6, 7, 8, 9, 10]\n",
    "even_numbers = list(filter(lambda x: x % 2 == 0, numbers))\n",
    "print(f\"Even numbers: {even_numbers}\")\n",
    "\n",
    "# Lambda with sorted\n",
    "students = [(\"Alice\", 85), (\"Bob\", 90), (\"Charlie\", 78), (\"Diana\", 92)]\n",
    "sorted_by_grade = sorted(students, key=lambda student: student[1])\n",
    "print(f\"Students sorted by grade: {sorted_by_grade}\")"
   ]
  },
  {
   "cell_type": "markdown",
   "metadata": {},
   "source": [
    "## 4. Variable Scope\n",
    "\n",
    "Understanding where variables can be accessed."
   ]
  },
  {
   "cell_type": "code",
   "execution_count": null,
   "metadata": {},
   "outputs": [],
   "source": [
    "# Global vs Local scope\n",
    "global_var = \"I'm global\"\n",
    "\n",
    "def scope_demo():\n",
    "    local_var = \"I'm local\"\n",
    "    print(f\"Inside function - Global: {global_var}\")\n",
    "    print(f\"Inside function - Local: {local_var}\")\n",
    "\n",
    "scope_demo()\n",
    "print(f\"Outside function - Global: {global_var}\")\n",
    "# print(local_var)  # This would cause an error!"
   ]
  },
  {
   "cell_type": "code",
   "execution_count": null,
   "metadata": {},
   "outputs": [],
   "source": [
    "# Modifying global variables\n",
    "counter = 0\n",
    "\n",
    "def increment_counter():\n",
    "    global counter\n",
    "    counter += 1\n",
    "    print(f\"Counter is now: {counter}\")\n",
    "\n",
    "print(f\"Initial counter: {counter}\")\n",
    "increment_counter()\n",
    "increment_counter()\n",
    "print(f\"Final counter: {counter}\")"
   ]
  },
  {
   "cell_type": "markdown",
   "metadata": {},
   "source": [
    "## 5. Docstrings and Function Documentation\n",
    "\n",
    "Document your functions for better code readability."
   ]
  },
  {
   "cell_type": "code",
   "execution_count": null,
   "metadata": {},
   "outputs": [],
   "source": [
    "def calculate_rectangle_area(length, width):\n",
    "    \"\"\"\n",
    "    Calculate the area of a rectangle.\n",
    "    \n",
    "    Args:\n",
    "        length (float): The length of the rectangle\n",
    "        width (float): The width of the rectangle\n",
    "    \n",
    "    Returns:\n",
    "        float: The area of the rectangle\n",
    "    \n",
    "    Example:\n",
    "        >>> calculate_rectangle_area(5, 3)\n",
    "        15\n",
    "    \"\"\"\n",
    "    return length * width\n",
    "\n",
    "# Using the function\n",
    "area = calculate_rectangle_area(10, 6)\n",
    "print(f\"Area: {area}\")\n",
    "\n",
    "# Access the docstring\n",
    "print(\"\\nFunction documentation:\")\n",
    "print(calculate_rectangle_area.__doc__)"
   ]
  },
  {
   "cell_type": "markdown",
   "metadata": {},
   "source": [
    "## 6. Built-in Modules\n",
    "\n",
    "Python comes with many useful built-in modules."
   ]
  },
  {
   "cell_type": "code",
   "execution_count": null,
   "metadata": {},
   "outputs": [],
   "source": [
    "# Math module\n",
    "import math\n",
    "\n",
    "print(f\"Pi: {math.pi}\")\n",
    "print(f\"Square root of 16: {math.sqrt(16)}\")\n",
    "print(f\"Ceiling of 4.3: {math.ceil(4.3)}\")\n",
    "print(f\"Floor of 4.7: {math.floor(4.7)}\")\n",
    "print(f\"Sin of 90 degrees: {math.sin(math.radians(90))}\")"
   ]
  },
  {
   "cell_type": "code",
   "execution_count": null,
   "metadata": {},
   "outputs": [],
   "source": [
    "# Random module\n",
    "import random\n",
    "\n",
    "print(f\"Random integer between 1 and 10: {random.randint(1, 10)}\")\n",
    "print(f\"Random float between 0 and 1: {random.random()}\")\n",
    "print(f\"Random choice from list: {random.choice(['apple', 'banana', 'orange'])}\")\n",
    "\n",
    "# Shuffle a list\n",
    "numbers = [1, 2, 3, 4, 5]\n",
    "random.shuffle(numbers)\n",
    "print(f\"Shuffled list: {numbers}\")"
   ]
  },
  {
   "cell_type": "code",
   "execution_count": null,
   "metadata": {},
   "outputs": [],
   "source": [
    "# DateTime module\n",
    "import datetime\n",
    "\n",
    "now = datetime.datetime.now()\n",
    "print(f\"Current date and time: {now}\")\n",
    "print(f\"Current year: {now.year}\")\n",
    "print(f\"Current month: {now.month}\")\n",
    "print(f\"Current day: {now.day}\")\n",
    "\n",
    "# Format date\n",
    "formatted_date = now.strftime(\"%Y-%m-%d %H:%M:%S\")\n",
    "print(f\"Formatted: {formatted_date}\")"
   ]
  },
  {
   "cell_type": "markdown",
   "metadata": {},
   "source": [
    "## 7. Different Ways to Import\n",
    "\n",
    "Various methods to import modules and functions."
   ]
  },
  {
   "cell_type": "code",
   "execution_count": null,
   "metadata": {},
   "outputs": [],
   "source": [
    "# Import entire module\n",
    "import math\n",
    "print(f\"Using math.sqrt: {math.sqrt(25)}\")\n",
    "\n",
    "# Import specific functions\n",
    "from math import sqrt, pi\n",
    "print(f\"Using sqrt directly: {sqrt(25)}\")\n",
    "print(f\"Pi value: {pi}\")\n",
    "\n",
    "# Import with alias\n",
    "import math as m\n",
    "print(f\"Using alias: {m.factorial(5)}\")\n",
    "\n",
    "# Import all (generally not recommended)\n",
    "# from math import *\n",
    "# print(f\"Direct access: {cos(0)}\")"
   ]
  },
  {
   "cell_type": "markdown",
   "metadata": {},
   "source": [
    "## 8. Creating Your Own Module\n",
    "\n",
    "You can create your own modules by saving functions in separate Python files."
   ]
  },
  {
   "cell_type": "code",
   "execution_count": null,
   "metadata": {},
   "outputs": [],
   "source": [
    "# This would be in a separate file called 'my_utilities.py'\n",
    "# For demonstration, we'll define it here\n",
    "\n",
    "def celsius_to_fahrenheit(celsius):\n",
    "    \"\"\"Convert Celsius to Fahrenheit.\"\"\"\n",
    "    return (celsius * 9/5) + 32\n",
    "\n",
    "def fahrenheit_to_celsius(fahrenheit):\n",
    "    \"\"\"Convert Fahrenheit to Celsius.\"\"\"\n",
    "    return (fahrenheit - 32) * 5/9\n",
    "\n",
    "def is_even(number):\n",
    "    \"\"\"Check if a number is even.\"\"\"\n",
    "    return number % 2 == 0\n",
    "\n",
    "# Using the functions\n",
    "temp_c = 25\n",
    "temp_f = celsius_to_fahrenheit(temp_c)\n",
    "print(f\"{temp_c}°C = {temp_f}°F\")\n",
    "\n",
    "temp_f = 77\n",
    "temp_c = fahrenheit_to_celsius(temp_f)\n",
    "print(f\"{temp_f}°F = {temp_c:.1f}°C\")\n",
    "\n",
    "number = 8\n",
    "print(f\"{number} is even: {is_even(number)}\")"
   ]
  },
  {
   "cell_type": "markdown",
   "metadata": {},
   "source": [
    "## 9. Recursive Functions\n",
    "\n",
    "Functions that call themselves."
   ]
  },
  {
   "cell_type": "code",
   "execution_count": null,
   "metadata": {},
   "outputs": [],
   "source": [
    "# Factorial using recursion\n",
    "def factorial(n):\n",
    "    \"\"\"\n",
    "    Calculate factorial of n using recursion.\n",
    "    factorial(n) = n * factorial(n-1)\n",
    "    factorial(1) = 1 (base case)\n",
    "    \"\"\"\n",
    "    if n <= 1:\n",
    "        return 1\n",
    "    else:\n",
    "        return n * factorial(n - 1)\n",
    "\n",
    "print(f\"Factorial of 5: {factorial(5)}\")\n",
    "print(f\"Factorial of 0: {factorial(0)}\")\n",
    "\n",
    "# Fibonacci sequence\n",
    "def fibonacci(n):\n",
    "    \"\"\"Generate nth Fibonacci number.\"\"\"\n",
    "    if n <= 1:\n",
    "        return n\n",
    "    else:\n",
    "        return fibonacci(n-1) + fibonacci(n-2)\n",
    "\n",
    "print(\"Fibonacci sequence (first 10 numbers):\")\n",
    "for i in range(10):\n",
    "    print(fibonacci(i), end=\" \")\n",
    "print()"
   ]
  },
  {
   "cell_type": "markdown",
   "metadata": {},
   "source": [
    "## Practice Exercises\n",
    "\n",
    "Try these exercises to practice functions and modules:"
   ]
  },
  {
   "cell_type": "code",
   "execution_count": null,
   "metadata": {},
   "outputs": [],
   "source": [
    "# Exercise 1: Write a function that checks if a number is prime\n",
    "def is_prime(n):\n",
    "    \"\"\"Check if a number is prime.\"\"\"\n",
    "    # Your code here\n",
    "    pass\n",
    "\n",
    "# Test your function\n",
    "# print(f\"Is 17 prime? {is_prime(17)}\")\n",
    "# print(f\"Is 15 prime? {is_prime(15)}\")"
   ]
  },
  {
   "cell_type": "code",
   "execution_count": null,
   "metadata": {},
   "outputs": [],
   "source": [
    "# Exercise 2: Create a function that calculates the area of different shapes\n",
    "def calculate_area(shape, **dimensions):\n",
    "    \"\"\"\n",
    "    Calculate area of different shapes.\n",
    "    \n",
    "    Args:\n",
    "        shape (str): 'rectangle', 'circle', or 'triangle'\n",
    "        **dimensions: keyword arguments for dimensions\n",
    "    \n",
    "    Returns:\n",
    "        float: Area of the shape\n",
    "    \"\"\"\n",
    "    # Your code here\n",
    "    pass\n",
    "\n",
    "# Test your function\n",
    "# print(calculate_area('rectangle', length=5, width=3))\n",
    "# print(calculate_area('circle', radius=4))\n",
    "# print(calculate_area('triangle', base=6, height=8))"
   ]
  },
  {
   "cell_type": "code",
   "execution_count": null,
   "metadata": {},
   "outputs": [],
   "source": [
    "# Exercise 3: Write a function that generates a password\n",
    "import random\n",
    "import string\n",
    "\n",
    "def generate_password(length=8, include_symbols=True):\n",
    "    \"\"\"\n",
    "    Generate a random password.\n",
    "    \n",
    "    Args:\n",
    "        length (int): Length of password\n",
    "        include_symbols (bool): Whether to include symbols\n",
    "    \n",
    "    Returns:\n",
    "        str: Generated password\n",
    "    \"\"\"\n",
    "    # Your code here\n",
    "    pass\n",
    "\n",
    "# Test your function\n",
    "# print(generate_password())\n",
    "# print(generate_password(12, False))"
   ]
  },
  {
   "cell_type": "code",
   "execution_count": null,
   "metadata": {},
   "outputs": [],
   "source": [
    "# Exercise 4: Create a function that counts word frequency in a text\n",
    "def word_frequency(text):\n",
    "    \"\"\"\n",
    "    Count frequency of each word in text.\n",
    "    \n",
    "    Args:\n",
    "        text (str): Input text\n",
    "    \n",
    "    Returns:\n",
    "        dict: Dictionary with word frequencies\n",
    "    \"\"\"\n",
    "    # Your code here\n",
    "    pass\n",
    "\n",
    "# Test your function\n",
    "sample_text = \"the quick brown fox jumps over the lazy dog the fox is quick\"\n",
    "# print(word_frequency(sample_text))"
   ]
  }
 ],
 "metadata": {
  "kernelspec": {
   "display_name": "Python 3",
   "language": "python",
   "name": "python3"
  },
  "language_info": {
   "codemirror_mode": {
    "name": "ipython",
    "version": 3
   },
   "file_extension": ".py",
   "mimetype": "text/x-python",
   "name": "python",
   "nbconvert_exporter": "python",
   "pygments_lexer": "ipython3",
   "version": "3.8.5"
  }
 },
 "nbformat": 4,
 "nbformat_minor": 4
}