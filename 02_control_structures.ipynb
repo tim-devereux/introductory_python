{
 "cells": [
  {
   "cell_type": "markdown",
   "metadata": {},
   "source": [
    "# Control Structures: Conditional Statements and Loops\n",
    "\n",
    "This notebook covers Python's control structures that allow you to control the flow of your program."
   ]
  },
  {
   "cell_type": "markdown",
   "metadata": {},
   "source": [
    "## 1. Conditional Statements (if/elif/else)\n",
    "\n",
    "Conditional statements allow you to execute different code blocks based on conditions."
   ]
  },
  {
   "cell_type": "code",
   "execution_count": null,
   "metadata": {},
   "outputs": [],
   "source": [
    "# Basic if statement\n",
    "age = 18\n",
    "\n",
    "if age >= 18:\n",
    "    print(\"You are an adult!\")\n",
    "    print(\"You can vote.\")"
   ]
  },
  {
   "cell_type": "code",
   "execution_count": null,
   "metadata": {},
   "outputs": [],
   "source": [
    "# if-else statement\n",
    "temperature = 25\n",
    "\n",
    "if temperature > 30:\n",
    "    print(\"It's hot outside!\")\n",
    "else:\n",
    "    print(\"It's not too hot.\")"
   ]
  },
  {
   "cell_type": "code",
   "execution_count": null,
   "metadata": {},
   "outputs": [],
   "source": [
    "# if-elif-else statement\n",
    "score = 85\n",
    "\n",
    "if score >= 90:\n",
    "    grade = \"A\"\n",
    "elif score >= 80:\n",
    "    grade = \"B\"\n",
    "elif score >= 70:\n",
    "    grade = \"C\"\n",
    "elif score >= 60:\n",
    "    grade = \"D\"\n",
    "else:\n",
    "    grade = \"F\"\n",
    "\n",
    "print(f\"Your score is {score}, your grade is {grade}\")"
   ]
  },
  {
   "cell_type": "code",
   "execution_count": null,
   "metadata": {},
   "outputs": [],
   "source": [
    "# Nested if statements\n",
    "weather = \"sunny\"\n",
    "temperature = 22\n",
    "\n",
    "if weather == \"sunny\":\n",
    "    if temperature > 20:\n",
    "        print(\"Perfect day for a picnic!\")\n",
    "    else:\n",
    "        print(\"Sunny but a bit cold.\")\n",
    "else:\n",
    "    print(\"Maybe stay indoors.\")"
   ]
  },
  {
   "cell_type": "markdown",
   "metadata": {},
   "source": [
    "## 2. For Loops\n",
    "\n",
    "For loops are used to iterate over sequences (like lists, strings, ranges)."
   ]
  },
  {
   "cell_type": "code",
   "execution_count": null,
   "metadata": {},
   "outputs": [],
   "source": [
    "# Basic for loop with range\n",
    "print(\"Counting from 1 to 5:\")\n",
    "for i in range(1, 6):\n",
    "    print(i)"
   ]
  },
  {
   "cell_type": "code",
   "execution_count": null,
   "metadata": {},
   "outputs": [],
   "source": [
    "# For loop with a list\n",
    "fruits = [\"apple\", \"banana\", \"orange\", \"grape\"]\n",
    "\n",
    "print(\"My favorite fruits:\")\n",
    "for fruit in fruits:\n",
    "    print(f\"- {fruit}\")"
   ]
  },
  {
   "cell_type": "code",
   "execution_count": null,
   "metadata": {},
   "outputs": [],
   "source": [
    "# For loop with string\n",
    "word = \"Python\"\n",
    "\n",
    "print(\"Letters in Python:\")\n",
    "for letter in word:\n",
    "    print(f\"'{letter}'\")"
   ]
  },
  {
   "cell_type": "code",
   "execution_count": null,
   "metadata": {},
   "outputs": [],
   "source": [
    "# Using enumerate to get index and value\n",
    "colors = [\"red\", \"green\", \"blue\"]\n",
    "\n",
    "for index, color in enumerate(colors):\n",
    "    print(f\"{index}: {color}\")"
   ]
  },
  {
   "cell_type": "code",
   "execution_count": null,
   "metadata": {},
   "outputs": [],
   "source": [
    "# Different range patterns\n",
    "print(\"Range(5):\")\n",
    "for i in range(5):\n",
    "    print(i, end=\" \")\n",
    "print()\n",
    "\n",
    "print(\"Range(2, 8):\")\n",
    "for i in range(2, 8):\n",
    "    print(i, end=\" \")\n",
    "print()\n",
    "\n",
    "print(\"Range(0, 10, 2):\")\n",
    "for i in range(0, 10, 2):\n",
    "    print(i, end=\" \")\n",
    "print()"
   ]
  },
  {
   "cell_type": "markdown",
   "metadata": {},
   "source": [
    "## 3. While Loops\n",
    "\n",
    "While loops continue executing as long as a condition is True."
   ]
  },
  {
   "cell_type": "code",
   "execution_count": null,
   "metadata": {},
   "outputs": [],
   "source": [
    "# Basic while loop\n",
    "count = 1\n",
    "\n",
    "print(\"Counting with while loop:\")\n",
    "while count <= 5:\n",
    "    print(f\"Count: {count}\")\n",
    "    count += 1\n",
    "\n",
    "print(\"Done!\")"
   ]
  },
  {
   "cell_type": "code",
   "execution_count": null,
   "metadata": {},
   "outputs": [],
   "source": [
    "# While loop with user input simulation\n",
    "password = \"\"\n",
    "correct_password = \"python123\"\n",
    "attempts = 0\n",
    "max_attempts = 3\n",
    "\n",
    "# Simulating user input (normally you'd use input())\n",
    "attempted_passwords = [\"wrong1\", \"wrong2\", \"python123\"]\n",
    "\n",
    "while password != correct_password and attempts < max_attempts:\n",
    "    password = attempted_passwords[attempts]  # Simulated input\n",
    "    attempts += 1\n",
    "    \n",
    "    if password == correct_password:\n",
    "        print(\"Access granted!\")\n",
    "    else:\n",
    "        remaining = max_attempts - attempts\n",
    "        if remaining > 0:\n",
    "            print(f\"Wrong password. {remaining} attempts remaining.\")\n",
    "        else:\n",
    "            print(\"Too many failed attempts. Access denied.\")"
   ]
  },
  {
   "cell_type": "markdown",
   "metadata": {},
   "source": [
    "## 4. Loop Control: break and continue\n",
    "\n",
    "Use `break` to exit a loop early and `continue` to skip to the next iteration."
   ]
  },
  {
   "cell_type": "code",
   "execution_count": null,
   "metadata": {},
   "outputs": [],
   "source": [
    "# Using break\n",
    "print(\"Finding the first number divisible by 7:\")\n",
    "for num in range(1, 50):\n",
    "    if num % 7 == 0:\n",
    "        print(f\"Found it: {num}\")\n",
    "        break\n",
    "    print(f\"Checking {num}\")"
   ]
  },
  {
   "cell_type": "code",
   "execution_count": null,
   "metadata": {},
   "outputs": [],
   "source": [
    "# Using continue\n",
    "print(\"Printing only even numbers from 1 to 10:\")\n",
    "for num in range(1, 11):\n",
    "    if num % 2 != 0:  # If odd\n",
    "        continue  # Skip to next iteration\n",
    "    print(num)"
   ]
  },
  {
   "cell_type": "code",
   "execution_count": null,
   "metadata": {},
   "outputs": [],
   "source": [
    "# break and continue in while loop\n",
    "count = 0\n",
    "\n",
    "while True:  # Infinite loop\n",
    "    count += 1\n",
    "    \n",
    "    if count % 3 == 0:\n",
    "        continue  # Skip multiples of 3\n",
    "    \n",
    "    print(count)\n",
    "    \n",
    "    if count >= 10:\n",
    "        break  # Exit when count reaches 10"
   ]
  },
  {
   "cell_type": "markdown",
   "metadata": {},
   "source": [
    "## 5. Nested Loops\n",
    "\n",
    "You can put loops inside other loops."
   ]
  },
  {
   "cell_type": "code",
   "execution_count": null,
   "metadata": {},
   "outputs": [],
   "source": [
    "# Multiplication table\n",
    "print(\"Multiplication table (1-5):\")\n",
    "for i in range(1, 6):\n",
    "    for j in range(1, 6):\n",
    "        result = i * j\n",
    "        print(f\"{result:2d}\", end=\" \")\n",
    "    print()  # New line after each row"
   ]
  },
  {
   "cell_type": "code",
   "execution_count": null,
   "metadata": {},
   "outputs": [],
   "source": [
    "# Pattern printing\n",
    "print(\"Star pattern:\")\n",
    "for i in range(1, 6):\n",
    "    for j in range(i):\n",
    "        print(\"*\", end=\"\")\n",
    "    print()  # New line"
   ]
  },
  {
   "cell_type": "markdown",
   "metadata": {},
   "source": [
    "## 6. List Comprehensions\n",
    "\n",
    "A concise way to create lists using loops and conditions."
   ]
  },
  {
   "cell_type": "code",
   "execution_count": null,
   "metadata": {},
   "outputs": [],
   "source": [
    "# Basic list comprehension\n",
    "squares = [x**2 for x in range(1, 6)]\n",
    "print(f\"Squares: {squares}\")\n",
    "\n",
    "# Equivalent using regular for loop:\n",
    "squares_regular = []\n",
    "for x in range(1, 6):\n",
    "    squares_regular.append(x**2)\n",
    "print(f\"Squares (regular loop): {squares_regular}\")"
   ]
  },
  {
   "cell_type": "code",
   "execution_count": null,
   "metadata": {},
   "outputs": [],
   "source": [
    "# List comprehension with condition\n",
    "even_squares = [x**2 for x in range(1, 11) if x % 2 == 0]\n",
    "print(f\"Even squares: {even_squares}\")\n",
    "\n",
    "# String processing\n",
    "words = [\"hello\", \"world\", \"python\", \"programming\"]\n",
    "uppercase_words = [word.upper() for word in words]\n",
    "print(f\"Uppercase: {uppercase_words}\")\n",
    "\n",
    "# Filtering\n",
    "long_words = [word for word in words if len(word) > 5]\n",
    "print(f\"Long words: {long_words}\")"
   ]
  },
  {
   "cell_type": "markdown",
   "metadata": {},
   "source": [
    "## Practice Exercises\n",
    "\n",
    "Try these exercises to practice control structures:"
   ]
  },
  {
   "cell_type": "code",
   "execution_count": null,
   "metadata": {},
   "outputs": [],
   "source": [
    "# Exercise 1: Write a program that checks if a number is positive, negative, or zero\n",
    "number = -5\n",
    "\n",
    "# Your code here\n"
   ]
  },
  {
   "cell_type": "code",
   "execution_count": null,
   "metadata": {},
   "outputs": [],
   "source": [
    "# Exercise 2: Calculate the sum of numbers from 1 to 100\n",
    "\n",
    "# Your code here\n"
   ]
  },
  {
   "cell_type": "code",
   "execution_count": null,
   "metadata": {},
   "outputs": [],
   "source": [
    "# Exercise 3: Print all prime numbers between 1 and 30\n",
    "# (A prime number is only divisible by 1 and itself)\n",
    "\n",
    "# Your code here\n"
   ]
  },
  {
   "cell_type": "code",
   "execution_count": null,
   "metadata": {},
   "outputs": [],
   "source": [
    "# Exercise 4: Create a list of squares of odd numbers from 1 to 20 using list comprehension\n",
    "\n",
    "# Your code here\n"
   ]
  },
  {
   "cell_type": "code",
   "execution_count": null,
   "metadata": {},
   "outputs": [],
   "source": [
    "# Exercise 5: Write a simple guessing game\n",
    "# The computer \"thinks\" of a number, and you try to guess it\n",
    "secret_number = 42\n",
    "guesses = [30, 50, 42]  # Simulated guesses\n",
    "\n",
    "# Your code here\n"
   ]
  }
 ],
 "metadata": {
  "kernelspec": {
   "display_name": "Python 3",
   "language": "python",
   "name": "python3"
  },
  "language_info": {
   "codemirror_mode": {
    "name": "ipython",
    "version": 3
   },
   "file_extension": ".py",
   "mimetype": "text/x-python",
   "name": "python",
   "nbconvert_exporter": "python",
   "pygments_lexer": "ipython3",
   "version": "3.8.5"
  }
 },
 "nbformat": 4,
 "nbformat_minor": 4
}