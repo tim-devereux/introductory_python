{
 "cells": [
  {
   "cell_type": "markdown",
   "metadata": {},
   "source": [
    "# Data Structures: Lists, Dictionaries, Tuples, and Sets\n",
    "\n",
    "This notebook covers Python's built-in data structures and how to work with them effectively."
   ]
  },
  {
   "cell_type": "markdown",
   "metadata": {},
   "source": [
    "## 1. Lists\n",
    "\n",
    "Lists are ordered, mutable collections that can contain different data types."
   ]
  },
  {
   "cell_type": "code",
   "execution_count": null,
   "metadata": {},
   "outputs": [],
   "source": [
    "# Creating lists\n",
    "empty_list = []\n",
    "numbers = [1, 2, 3, 4, 5]\n",
    "fruits = [\"apple\", \"banana\", \"orange\"]\n",
    "mixed_list = [1, \"hello\", 3.14, True]\n",
    "\n",
    "print(f\"Empty list: {empty_list}\")\n",
    "print(f\"Numbers: {numbers}\")\n",
    "print(f\"Fruits: {fruits}\")\n",
    "print(f\"Mixed list: {mixed_list}\")"
   ]
  },
  {
   "cell_type": "code",
   "execution_count": null,
   "metadata": {},
   "outputs": [],
   "source": [
    "# Accessing list elements\n",
    "colors = [\"red\", \"green\", \"blue\", \"yellow\", \"purple\"]\n",
    "\n",
    "print(f\"First color: {colors[0]}\")\n",
    "print(f\"Last color: {colors[-1]}\")\n",
    "print(f\"Second to last: {colors[-2]}\")\n",
    "\n",
    "# List slicing\n",
    "print(f\"First three colors: {colors[:3]}\")\n",
    "print(f\"Last two colors: {colors[-2:]}\")\n",
    "print(f\"Middle colors: {colors[1:4]}\")\n",
    "print(f\"Every second color: {colors[::2]}\")"
   ]
  },
  {
   "cell_type": "code",
   "execution_count": null,
   "metadata": {},
   "outputs": [],
   "source": [
    "# Modifying lists\n",
    "shopping_list = [\"bread\", \"milk\", \"eggs\"]\n",
    "print(f\"Original list: {shopping_list}\")\n",
    "\n",
    "# Adding elements\n",
    "shopping_list.append(\"cheese\")  # Add to end\n",
    "print(f\"After append: {shopping_list}\")\n",
    "\n",
    "shopping_list.insert(1, \"butter\")  # Insert at position 1\n",
    "print(f\"After insert: {shopping_list}\")\n",
    "\n",
    "shopping_list.extend([\"apples\", \"bananas\"])  # Add multiple items\n",
    "print(f\"After extend: {shopping_list}\")"
   ]
  },
  {
   "cell_type": "code",
   "execution_count": null,
   "metadata": {},
   "outputs": [],
   "source": [
    "# Removing elements\n",
    "numbers = [1, 2, 3, 4, 5, 3, 6]\n",
    "print(f\"Original: {numbers}\")\n",
    "\n",
    "numbers.remove(3)  # Removes first occurrence of 3\n",
    "print(f\"After remove(3): {numbers}\")\n",
    "\n",
    "popped_item = numbers.pop()  # Removes and returns last item\n",
    "print(f\"After pop(): {numbers}, popped: {popped_item}\")\n",
    "\n",
    "popped_item = numbers.pop(1)  # Removes and returns item at index 1\n",
    "print(f\"After pop(1): {numbers}, popped: {popped_item}\")\n",
    "\n",
    "del numbers[0]  # Delete by index\n",
    "print(f\"After del numbers[0]: {numbers}\")"
   ]
  },
  {
   "cell_type": "code",
   "execution_count": null,
   "metadata": {},
   "outputs": [],
   "source": [
    "# List methods\n",
    "numbers = [3, 1, 4, 1, 5, 9, 2, 6]\n",
    "print(f\"Original: {numbers}\")\n",
    "\n",
    "print(f\"Length: {len(numbers)}\")\n",
    "print(f\"Count of 1: {numbers.count(1)}\")\n",
    "print(f\"Index of 4: {numbers.index(4)}\")\n",
    "print(f\"Max: {max(numbers)}\")\n",
    "print(f\"Min: {min(numbers)}\")\n",
    "print(f\"Sum: {sum(numbers)}\")\n",
    "\n",
    "# Sorting\n",
    "numbers.sort()  # Modifies original list\n",
    "print(f\"Sorted: {numbers}\")\n",
    "\n",
    "numbers.reverse()  # Reverses the list\n",
    "print(f\"Reversed: {numbers}\")\n",
    "\n",
    "# Sorted function (creates new list)\n",
    "original = [3, 1, 4, 1, 5]\n",
    "sorted_list = sorted(original)\n",
    "print(f\"Original: {original}\")\n",
    "print(f\"Sorted copy: {sorted_list}\")"
   ]
  },
  {
   "cell_type": "markdown",
   "metadata": {},
   "source": [
    "## 2. Tuples\n",
    "\n",
    "Tuples are ordered, immutable collections."
   ]
  },
  {
   "cell_type": "code",
   "execution_count": null,
   "metadata": {},
   "outputs": [],
   "source": [
    "# Creating tuples\n",
    "empty_tuple = ()\n",
    "single_item = (42,)  # Note the comma for single item\n",
    "coordinates = (10, 20)\n",
    "person_info = (\"Alice\", 25, \"Engineer\")\n",
    "mixed_tuple = (1, \"hello\", 3.14, True)\n",
    "\n",
    "print(f\"Empty tuple: {empty_tuple}\")\n",
    "print(f\"Single item: {single_item}\")\n",
    "print(f\"Coordinates: {coordinates}\")\n",
    "print(f\"Person info: {person_info}\")\n",
    "print(f\"Mixed tuple: {mixed_tuple}\")"
   ]
  },
  {
   "cell_type": "code",
   "execution_count": null,
   "metadata": {},
   "outputs": [],
   "source": [
    "# Accessing tuple elements\n",
    "rgb_color = (255, 128, 0)\n",
    "\n",
    "print(f\"Red: {rgb_color[0]}\")\n",
    "print(f\"Green: {rgb_color[1]}\")\n",
    "print(f\"Blue: {rgb_color[2]}\")\n",
    "\n",
    "# Tuple unpacking\n",
    "red, green, blue = rgb_color\n",
    "print(f\"Unpacked - R: {red}, G: {green}, B: {blue}\")\n",
    "\n",
    "# Swapping variables using tuples\n",
    "a, b = 10, 20\n",
    "print(f\"Before swap: a={a}, b={b}\")\n",
    "a, b = b, a\n",
    "print(f\"After swap: a={a}, b={b}\")"
   ]
  },
  {
   "cell_type": "code",
   "execution_count": null,
   "metadata": {},
   "outputs": [],
   "source": [
    "# Tuple methods and operations\n",
    "numbers_tuple = (1, 2, 3, 2, 4, 2, 5)\n",
    "\n",
    "print(f\"Tuple: {numbers_tuple}\")\n",
    "print(f\"Length: {len(numbers_tuple)}\")\n",
    "print(f\"Count of 2: {numbers_tuple.count(2)}\")\n",
    "print(f\"Index of 3: {numbers_tuple.index(3)}\")\n",
    "print(f\"Max: {max(numbers_tuple)}\")\n",
    "print(f\"Min: {min(numbers_tuple)}\")\n",
    "\n",
    "# Tuple concatenation\n",
    "tuple1 = (1, 2, 3)\n",
    "tuple2 = (4, 5, 6)\n",
    "combined = tuple1 + tuple2\n",
    "print(f\"Combined tuple: {combined}\")\n",
    "\n",
    "# Tuple repetition\n",
    "repeated = (\"hello\",) * 3\n",
    "print(f\"Repeated tuple: {repeated}\")"
   ]
  },
  {
   "cell_type": "markdown",
   "metadata": {},
   "source": [
    "## 3. Dictionaries\n",
    "\n",
    "Dictionaries are unordered collections of key-value pairs."
   ]
  },
  {
   "cell_type": "code",
   "execution_count": null,
   "metadata": {},
   "outputs": [],
   "source": [
    "# Creating dictionaries\n",
    "empty_dict = {}\n",
    "student = {\n",
    "    \"name\": \"Alice\",\n",
    "    \"age\": 20,\n",
    "    \"major\": \"Computer Science\",\n",
    "    \"gpa\": 3.8\n",
    "}\n",
    "\n",
    "# Different ways to create dictionaries\n",
    "dict_from_list = dict([(\"a\", 1), (\"b\", 2), (\"c\", 3)])\n",
    "dict_from_kwargs = dict(x=1, y=2, z=3)\n",
    "\n",
    "print(f\"Student info: {student}\")\n",
    "print(f\"From list: {dict_from_list}\")\n",
    "print(f\"From kwargs: {dict_from_kwargs}\")"
   ]
  },
  {
   "cell_type": "code",
   "execution_count": null,
   "metadata": {},
   "outputs": [],
   "source": [
    "# Accessing and modifying dictionary values\n",
    "person = {\"name\": \"Bob\", \"age\": 30, \"city\": \"New York\"}\n",
    "\n",
    "print(f\"Name: {person['name']}\")\n",
    "print(f\"Age: {person.get('age')}\")\n",
    "print(f\"Country: {person.get('country', 'Not specified')}\")\n",
    "\n",
    "# Modifying values\n",
    "person[\"age\"] = 31\n",
    "person[\"country\"] = \"USA\"\n",
    "print(f\"Updated person: {person}\")\n",
    "\n",
    "# Removing items\n",
    "removed_city = person.pop(\"city\")\n",
    "print(f\"Removed city: {removed_city}\")\n",
    "print(f\"After removal: {person}\")"
   ]
  },
  {
   "cell_type": "code",
   "execution_count": null,
   "metadata": {},
   "outputs": [],
   "source": [
    "# Dictionary methods\n",
    "grades = {\"math\": 90, \"science\": 85, \"english\": 92, \"history\": 88}\n",
    "\n",
    "print(f\"All keys: {list(grades.keys())}\")\n",
    "print(f\"All values: {list(grades.values())}\")\n",
    "print(f\"All items: {list(grades.items())}\")\n",
    "\n",
    "# Iterating through dictionaries\n",
    "print(\"\\nGrades:\")\n",
    "for subject, grade in grades.items():\n",
    "    print(f\"{subject}: {grade}\")\n",
    "\n",
    "# Dictionary comprehension\n",
    "squared_grades = {subject: grade**2 for subject, grade in grades.items()}\n",
    "print(f\"\\nSquared grades: {squared_grades}\")\n",
    "\n",
    "high_grades = {subject: grade for subject, grade in grades.items() if grade >= 90}\n",
    "print(f\"High grades: {high_grades}\")"
   ]
  },
  {
   "cell_type": "code",
   "execution_count": null,
   "metadata": {},
   "outputs": [],
   "source": [
    "# Nested dictionaries\n",
    "company = {\n",
    "    \"employees\": {\n",
    "        \"alice\": {\"age\": 30, \"department\": \"Engineering\"},\n",
    "        \"bob\": {\"age\": 25, \"department\": \"Marketing\"},\n",
    "        \"charlie\": {\"age\": 35, \"department\": \"Sales\"}\n",
    "    },\n",
    "    \"location\": \"San Francisco\",\n",
    "    \"founded\": 2010\n",
    "}\n",
    "\n",
    "print(f\"Company location: {company['location']}\")\n",
    "print(f\"Alice's department: {company['employees']['alice']['department']}\")\n",
    "\n",
    "# Safely accessing nested values\n",
    "alice_age = company.get('employees', {}).get('alice', {}).get('age', 'Unknown')\n",
    "print(f\"Alice's age: {alice_age}\")"
   ]
  },
  {
   "cell_type": "markdown",
   "metadata": {},
   "source": [
    "## 4. Sets\n",
    "\n",
    "Sets are unordered collections of unique elements."
   ]
  },
  {
   "cell_type": "code",
   "execution_count": null,
   "metadata": {},
   "outputs": [],
   "source": [
    "# Creating sets\n",
    "empty_set = set()  # Note: {} creates an empty dictionary\n",
    "numbers_set = {1, 2, 3, 4, 5}\n",
    "colors_set = {\"red\", \"green\", \"blue\"}\n",
    "from_list = set([1, 2, 2, 3, 3, 4])  # Duplicates are removed\n",
    "\n",
    "print(f\"Empty set: {empty_set}\")\n",
    "print(f\"Numbers set: {numbers_set}\")\n",
    "print(f\"Colors set: {colors_set}\")\n",
    "print(f\"From list with duplicates: {from_list}\")"
   ]
  },
  {
   "cell_type": "code",
   "execution_count": null,
   "metadata": {},
   "outputs": [],
   "source": [
    "# Set operations\n",
    "fruits = {\"apple\", \"banana\", \"orange\"}\n",
    "\n",
    "print(f\"Original fruits: {fruits}\")\n",
    "\n",
    "# Adding elements\n",
    "fruits.add(\"grape\")\n",
    "print(f\"After adding grape: {fruits}\")\n",
    "\n",
    "fruits.update([\"kiwi\", \"mango\"])\n",
    "print(f\"After update: {fruits}\")\n",
    "\n",
    "# Removing elements\n",
    "fruits.remove(\"banana\")  # Raises error if not found\n",
    "print(f\"After remove: {fruits}\")\n",
    "\n",
    "fruits.discard(\"pear\")  # No error if not found\n",
    "print(f\"After discard (pear not in set): {fruits}\")\n",
    "\n",
    "# Check membership\n",
    "print(f\"Is apple in fruits? {'apple' in fruits}\")\n",
    "print(f\"Is banana in fruits? {'banana' in fruits}\")"
   ]
  },
  {
   "cell_type": "code",
   "execution_count": null,
   "metadata": {},
   "outputs": [],
   "source": [
    "# Set mathematical operations\n",
    "set1 = {1, 2, 3, 4, 5}\n",
    "set2 = {4, 5, 6, 7, 8}\n",
    "\n",
    "print(f\"Set 1: {set1}\")\n",
    "print(f\"Set 2: {set2}\")\n",
    "\n",
    "# Union (all elements)\n",
    "union = set1 | set2\n",
    "print(f\"Union (|): {union}\")\n",
    "\n",
    "# Intersection (common elements)\n",
    "intersection = set1 & set2\n",
    "print(f\"Intersection (&): {intersection}\")\n",
    "\n",
    "# Difference (elements in set1 but not set2)\n",
    "difference = set1 - set2\n",
    "print(f\"Difference (-): {difference}\")\n",
    "\n",
    "# Symmetric difference (elements in either set, but not both)\n",
    "sym_diff = set1 ^ set2\n",
    "print(f\"Symmetric difference (^): {sym_diff}\")"
   ]
  },
  {
   "cell_type": "code",
   "execution_count": null,
   "metadata": {},
   "outputs": [],
   "source": [
    "# Practical example: Finding unique elements\n",
    "text = \"hello world\"\n",
    "unique_chars = set(text)\n",
    "print(f\"Text: '{text}'\")\n",
    "print(f\"Unique characters: {unique_chars}\")\n",
    "print(f\"Number of unique characters: {len(unique_chars)}\")\n",
    "\n",
    "# Remove duplicates from list while preserving some order\n",
    "numbers_with_duplicates = [1, 2, 3, 2, 4, 1, 5, 3]\n",
    "unique_numbers = list(set(numbers_with_duplicates))\n",
    "print(f\"\\nOriginal list: {numbers_with_duplicates}\")\n",
    "print(f\"Unique numbers: {sorted(unique_numbers)}\")"
   ]
  },
  {
   "cell_type": "markdown",
   "metadata": {},
   "source": [
    "## 5. Choosing the Right Data Structure\n",
    "\n",
    "Understanding when to use each data structure."
   ]
  },
  {
   "cell_type": "code",
   "execution_count": null,
   "metadata": {},
   "outputs": [],
   "source": [
    "# Comparison of data structures\n",
    "print(\"Data Structure Comparison:\")\n",
    "print(\"\\nLists:\")\n",
    "print(\"- Ordered, mutable\")\n",
    "print(\"- Allow duplicates\")\n",
    "print(\"- Use when: Need ordered data that can change\")\n",
    "\n",
    "print(\"\\nTuples:\")\n",
    "print(\"- Ordered, immutable\")\n",
    "print(\"- Allow duplicates\")\n",
    "print(\"- Use when: Need ordered data that won't change\")\n",
    "\n",
    "print(\"\\nDictionaries:\")\n",
    "print(\"- Unordered (Python 3.7+ maintains insertion order)\")\n",
    "print(\"- Key-value pairs, keys must be unique\")\n",
    "print(\"- Use when: Need to map keys to values\")\n",
    "\n",
    "print(\"\\nSets:\")\n",
    "print(\"- Unordered, mutable\")\n",
    "print(\"- No duplicates allowed\")\n",
    "print(\"- Use when: Need unique elements or set operations\")"
   ]
  },
  {
   "cell_type": "markdown",
   "metadata": {},
   "source": [
    "## 6. Advanced Techniques\n",
    "\n",
    "Some advanced ways to work with data structures."
   ]
  },
  {
   "cell_type": "code",
   "execution_count": null,
   "metadata": {},
   "outputs": [],
   "source": [
    "# List of dictionaries (common pattern)\n",
    "students = [\n",
    "    {\"name\": \"Alice\", \"age\": 20, \"grade\": 85},\n",
    "    {\"name\": \"Bob\", \"age\": 19, \"grade\": 92},\n",
    "    {\"name\": \"Charlie\", \"age\": 21, \"grade\": 78}\n",
    "]\n",
    "\n",
    "print(\"Students:\")\n",
    "for student in students:\n",
    "    print(f\"{student['name']}: {student['grade']}\")\n",
    "\n",
    "# Find student with highest grade\n",
    "top_student = max(students, key=lambda s: s['grade'])\n",
    "print(f\"\\nTop student: {top_student['name']} with grade {top_student['grade']}\")\n",
    "\n",
    "# Filter students by age\n",
    "young_students = [s for s in students if s['age'] < 21]\n",
    "print(f\"Students under 21: {[s['name'] for s in young_students]}\")"
   ]
  },
  {
   "cell_type": "code",
   "execution_count": null,
   "metadata": {},
   "outputs": [],
   "source": [
    "# Counter from collections module\n",
    "from collections import Counter\n",
    "\n",
    "text = \"hello world hello python world\"\n",
    "word_count = Counter(text.split())\n",
    "print(f\"Word count: {word_count}\")\n",
    "print(f\"Most common: {word_count.most_common(2)}\")\n",
    "\n",
    "# DefaultDict\n",
    "from collections import defaultdict\n",
    "\n",
    "# Group students by grade range\n",
    "grade_groups = defaultdict(list)\n",
    "for student in students:\n",
    "    if student['grade'] >= 90:\n",
    "        grade_groups['A'].append(student['name'])\n",
    "    elif student['grade'] >= 80:\n",
    "        grade_groups['B'].append(student['name'])\n",
    "    else:\n",
    "        grade_groups['C'].append(student['name'])\n",
    "\n",
    "print(f\"\\nGrade groups: {dict(grade_groups)}\")"
   ]
  },
  {
   "cell_type": "markdown",
   "metadata": {},
   "source": [
    "## Practice Exercises\n",
    "\n",
    "Try these exercises to practice working with data structures:"
   ]
  },
  {
   "cell_type": "code",
   "execution_count": null,
   "metadata": {},
   "outputs": [],
   "source": [
    "# Exercise 1: Create a shopping cart system\n",
    "# Use a dictionary to store items and their quantities\n",
    "shopping_cart = {}\n",
    "\n",
    "def add_item(cart, item, quantity):\n",
    "    \"\"\"Add item to cart or update quantity if already exists.\"\"\"\n",
    "    # Your code here\n",
    "    pass\n",
    "\n",
    "def remove_item(cart, item):\n",
    "    \"\"\"Remove item from cart.\"\"\"\n",
    "    # Your code here\n",
    "    pass\n",
    "\n",
    "def get_total_items(cart):\n",
    "    \"\"\"Get total number of items in cart.\"\"\"\n",
    "    # Your code here\n",
    "    pass\n",
    "\n",
    "# Test your functions\n",
    "# add_item(shopping_cart, \"apples\", 5)\n",
    "# add_item(shopping_cart, \"bread\", 2)\n",
    "# print(shopping_cart)\n",
    "# print(f\"Total items: {get_total_items(shopping_cart)}\")"
   ]
  },
  {
   "cell_type": "code",
   "execution_count": null,
   "metadata": {},
   "outputs": [],
   "source": [
    "# Exercise 2: Find common elements between multiple lists\n",
    "list1 = [1, 2, 3, 4, 5]\n",
    "list2 = [4, 5, 6, 7, 8]\n",
    "list3 = [5, 6, 7, 8, 9]\n",
    "\n",
    "def find_common_elements(*lists):\n",
    "    \"\"\"Find elements common to all lists.\"\"\"\n",
    "    # Your code here\n",
    "    pass\n",
    "\n",
    "# Test your function\n",
    "# common = find_common_elements(list1, list2, list3)\n",
    "# print(f\"Common elements: {common}\")"
   ]
  },
  {
   "cell_type": "code",
   "execution_count": null,
   "metadata": {},
   "outputs": [],
   "source": [
    "# Exercise 3: Create a simple phone book\n",
    "phone_book = {}\n",
    "\n",
    "def add_contact(book, name, phone):\n",
    "    \"\"\"Add a contact to the phone book.\"\"\"\n",
    "    # Your code here\n",
    "    pass\n",
    "\n",
    "def find_contact(book, name):\n",
    "    \"\"\"Find a contact's phone number.\"\"\"\n",
    "    # Your code here\n",
    "    pass\n",
    "\n",
    "def list_contacts(book):\n",
    "    \"\"\"List all contacts in alphabetical order.\"\"\"\n",
    "    # Your code here\n",
    "    pass\n",
    "\n",
    "# Test your functions\n",
    "# add_contact(phone_book, \"Alice\", \"555-0101\")\n",
    "# add_contact(phone_book, \"Bob\", \"555-0102\")\n",
    "# print(find_contact(phone_book, \"Alice\"))\n",
    "# list_contacts(phone_book)"
   ]
  },
  {
   "cell_type": "code",
   "execution_count": null,
   "metadata": {},
   "outputs": [],
   "source": [
    "# Exercise 4: Analyze text data\n",
    "text_data = [\n",
    "    \"Python is a great programming language\",\n",
    "    \"I love programming with Python\",\n",
    "    \"Data structures are important in programming\",\n",
    "    \"Python makes programming fun and easy\"\n",
    "]\n",
    "\n",
    "def analyze_text(texts):\n",
    "    \"\"\"\n",
    "    Analyze a list of text strings and return:\n",
    "    - Total word count\n",
    "    - Unique words\n",
    "    - Most common words\n",
    "    \"\"\"\n",
    "    # Your code here\n",
    "    pass\n",
    "\n",
    "# Test your function\n",
    "# analysis = analyze_text(text_data)\n",
    "# print(analysis)"
   ]
  }
 ],
 "metadata": {
  "kernelspec": {
   "display_name": "Python 3",
   "language": "python",
   "name": "python3"
  },
  "language_info": {
   "codemirror_mode": {
    "name": "ipython",
    "version": 3
   },
   "file_extension": ".py",
   "mimetype": "text/x-python",
   "name": "python",
   "nbconvert_exporter": "python",
   "pygments_lexer": "ipython3",
   "version": "3.8.5"
  }
 },
 "nbformat": 4,
 "nbformat_minor": 4
}