{
 "cells": [
  {
   "cell_type": "markdown",
   "metadata": {},
   "source": [
    "# Python Basics: Variables, Data Types, and Operators\n",
    "\n",
    "Welcome to Python programming! This notebook covers the fundamental concepts you need to get started."
   ]
  },
  {
   "cell_type": "markdown",
   "metadata": {},
   "source": [
    "## 1. Variables and Assignment\n",
    "\n",
    "Variables are containers for storing data values. In Python, you create a variable by assigning a value to it."
   ]
  },
  {
   "cell_type": "code",
   "execution_count": null,
   "metadata": {},
   "outputs": [],
   "source": [
    "# Creating variables\n",
    "name = \"Alice\"\n",
    "age = 25\n",
    "height = 5.6\n",
    "is_student = True\n",
    "\n",
    "print(f\"Name: {name}\")\n",
    "print(f\"Age: {age}\")\n",
    "print(f\"Height: {height}\")\n",
    "print(f\"Is student: {is_student}\")"
   ]
  },
  {
   "cell_type": "markdown",
   "metadata": {},
   "source": [
    "## 2. Data Types\n",
    "\n",
    "Python has several built-in data types. Let's explore the most common ones:"
   ]
  },
  {
   "cell_type": "code",
   "execution_count": null,
   "metadata": {},
   "outputs": [],
   "source": [
    "# Numbers\n",
    "integer_num = 42\n",
    "float_num = 3.14\n",
    "complex_num = 2 + 3j\n",
    "\n",
    "print(f\"Integer: {integer_num}, type: {type(integer_num)}\")\n",
    "print(f\"Float: {float_num}, type: {type(float_num)}\")\n",
    "print(f\"Complex: {complex_num}, type: {type(complex_num)}\")"
   ]
  },
  {
   "cell_type": "code",
   "execution_count": null,
   "metadata": {},
   "outputs": [],
   "source": [
    "# Strings\n",
    "single_quote = 'Hello'\n",
    "double_quote = \"World\"\n",
    "multiline_string = \"\"\"This is a\n",
    "multiline string\"\"\"\n",
    "\n",
    "print(single_quote)\n",
    "print(double_quote)\n",
    "print(multiline_string)\n",
    "print(f\"Type: {type(single_quote)}\")"
   ]
  },
  {
   "cell_type": "code",
   "execution_count": null,
   "metadata": {},
   "outputs": [],
   "source": [
    "# Boolean\n",
    "is_true = True\n",
    "is_false = False\n",
    "\n",
    "print(f\"True: {is_true}, type: {type(is_true)}\")\n",
    "print(f\"False: {is_false}, type: {type(is_false)}\")"
   ]
  },
  {
   "cell_type": "markdown",
   "metadata": {},
   "source": [
    "## 3. Type Conversion\n",
    "\n",
    "You can convert between different data types:"
   ]
  },
  {
   "cell_type": "code",
   "execution_count": null,
   "metadata": {},
   "outputs": [],
   "source": [
    "# Type conversion examples\n",
    "num_str = \"123\"\n",
    "num_int = int(num_str)\n",
    "num_float = float(num_str)\n",
    "\n",
    "print(f\"String: {num_str}, type: {type(num_str)}\")\n",
    "print(f\"Integer: {num_int}, type: {type(num_int)}\")\n",
    "print(f\"Float: {num_float}, type: {type(num_float)}\")\n",
    "\n",
    "# Converting back to string\n",
    "back_to_string = str(num_int)\n",
    "print(f\"Back to string: {back_to_string}, type: {type(back_to_string)}\")"
   ]
  },
  {
   "cell_type": "markdown",
   "metadata": {},
   "source": [
    "## 4. Arithmetic Operators\n",
    "\n",
    "Python supports various arithmetic operations:"
   ]
  },
  {
   "cell_type": "code",
   "execution_count": null,
   "metadata": {},
   "outputs": [],
   "source": [
    "a = 10\n",
    "b = 3\n",
    "\n",
    "print(f\"Addition: {a} + {b} = {a + b}\")\n",
    "print(f\"Subtraction: {a} - {b} = {a - b}\")\n",
    "print(f\"Multiplication: {a} * {b} = {a * b}\")\n",
    "print(f\"Division: {a} / {b} = {a / b}\")\n",
    "print(f\"Floor Division: {a} // {b} = {a // b}\")\n",
    "print(f\"Modulus: {a} % {b} = {a % b}\")\n",
    "print(f\"Exponentiation: {a} ** {b} = {a ** b}\")"
   ]
  },
  {
   "cell_type": "markdown",
   "metadata": {},
   "source": [
    "## 5. Comparison Operators\n",
    "\n",
    "Used to compare values and return True or False:"
   ]
  },
  {
   "cell_type": "code",
   "execution_count": null,
   "metadata": {},
   "outputs": [],
   "source": [
    "x = 5\n",
    "y = 8\n",
    "\n",
    "print(f\"{x} == {y}: {x == y}\")\n",
    "print(f\"{x} != {y}: {x != y}\")\n",
    "print(f\"{x} < {y}: {x < y}\")\n",
    "print(f\"{x} > {y}: {x > y}\")\n",
    "print(f\"{x} <= {y}: {x <= y}\")\n",
    "print(f\"{x} >= {y}: {x >= y}\")"
   ]
  },
  {
   "cell_type": "markdown",
   "metadata": {},
   "source": [
    "## 6. Logical Operators\n",
    "\n",
    "Used to combine conditional statements:"
   ]
  },
  {
   "cell_type": "code",
   "execution_count": null,
   "metadata": {},
   "outputs": [],
   "source": [
    "p = True\n",
    "q = False\n",
    "\n",
    "print(f\"p and q: {p and q}\")\n",
    "print(f\"p or q: {p or q}\")\n",
    "print(f\"not p: {not p}\")\n",
    "print(f\"not q: {not q}\")\n",
    "\n",
    "# Practical example\n",
    "age = 20\n",
    "has_license = True\n",
    "\n",
    "can_drive = age >= 18 and has_license\n",
    "print(f\"Can drive: {can_drive}\")"
   ]
  },
  {
   "cell_type": "markdown",
   "metadata": {},
   "source": [
    "## 7. String Operations\n",
    "\n",
    "Working with strings:"
   ]
  },
  {
   "cell_type": "code",
   "execution_count": null,
   "metadata": {},
   "outputs": [],
   "source": [
    "first_name = \"John\"\n",
    "last_name = \"Doe\"\n",
    "\n",
    "# String concatenation\n",
    "full_name = first_name + \" \" + last_name\n",
    "print(f\"Full name: {full_name}\")\n",
    "\n",
    "# String repetition\n",
    "hello = \"Hello! \"\n",
    "repeated = hello * 3\n",
    "print(f\"Repeated: {repeated}\")\n",
    "\n",
    "# String methods\n",
    "text = \"python programming\"\n",
    "print(f\"Original: {text}\")\n",
    "print(f\"Upper: {text.upper()}\")\n",
    "print(f\"Title: {text.title()}\")\n",
    "print(f\"Length: {len(text)}\")"
   ]
  },
  {
   "cell_type": "markdown",
   "metadata": {},
   "source": [
    "## 8. Input from User\n",
    "\n",
    "Getting input from the user:"
   ]
  },
  {
   "cell_type": "code",
   "execution_count": null,
   "metadata": {},
   "outputs": [],
   "source": [
    "# Note: This will prompt for input when run\n",
    "# user_name = input(\"Enter your name: \")\n",
    "# user_age = int(input(\"Enter your age: \"))\n",
    "# print(f\"Hello {user_name}, you are {user_age} years old!\")\n",
    "\n",
    "# For demonstration (without actual input)\n",
    "user_name = \"Alice\"\n",
    "user_age = 25\n",
    "print(f\"Hello {user_name}, you are {user_age} years old!\")"
   ]
  },
  {
   "cell_type": "markdown",
   "metadata": {},
   "source": [
    "## Practice Exercises\n",
    "\n",
    "Try these exercises to practice what you've learned:"
   ]
  },
  {
   "cell_type": "code",
   "execution_count": null,
   "metadata": {},
   "outputs": [],
   "source": [
    "# Exercise 1: Create variables for your personal information\n",
    "# and print them in a formatted way\n",
    "\n",
    "# Your code here\n"
   ]
  },
  {
   "cell_type": "code",
   "execution_count": null,
   "metadata": {},
   "outputs": [],
   "source": [
    "# Exercise 2: Calculate the area of a rectangle\n",
    "# Given length = 10 and width = 5\n",
    "\n",
    "# Your code here\n"
   ]
  },
  {
   "cell_type": "code",
   "execution_count": null,
   "metadata": {},
   "outputs": [],
   "source": [
    "# Exercise 3: Convert temperature from Celsius to Fahrenheit\n",
    "# Formula: F = (C * 9/5) + 32\n",
    "celsius = 25\n",
    "\n",
    "# Your code here\n"
   ]
  }
 ],
 "metadata": {
  "kernelspec": {
   "display_name": "Python 3",
   "language": "python",
   "name": "python3"
  },
  "language_info": {
   "codemirror_mode": {
    "name": "ipython",
    "version": 3
   },
   "file_extension": ".py",
   "mimetype": "text/x-python",
   "name": "python",
   "nbconvert_exporter": "python",
   "pygments_lexer": "ipython3",
   "version": "3.8.5"
  }
 },
 "nbformat": 4,
 "nbformat_minor": 4
}